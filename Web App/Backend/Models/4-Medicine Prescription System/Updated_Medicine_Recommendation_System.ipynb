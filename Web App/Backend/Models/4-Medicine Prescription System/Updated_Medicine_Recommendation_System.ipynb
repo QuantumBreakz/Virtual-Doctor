{
 "cells": [
  {
   "cell_type": "markdown",
   "id": "d661e371",
   "metadata": {},
   "source": [
    "# Medicine Recommendation System  "
   ]
  },
  {
   "cell_type": "code",
   "execution_count": 2,
   "id": "d37de8ab",
   "metadata": {},
   "outputs": [],
   "source": [
    "import pandas as pd\n",
    "import matplotlib.pyplot as plt\n",
    "import seaborn as sns"
   ]
  },
  {
   "cell_type": "code",
   "execution_count": 3,
   "id": "a2d3569a",
   "metadata": {},
   "outputs": [],
   "source": [
    "df=pd.read_csv(r'drugsComTest_raw.csv')"
   ]
  },
  {
   "cell_type": "code",
   "execution_count": 5,
   "id": "55952d09",
   "metadata": {},
   "outputs": [],
   "source": [
    "def get_medications_for_condition(condition):\n",
    "    medications = df[df['condition'] == condition]['drugName'].unique()#.head(5)\n",
    "    print(medications)"
   ]
  },
  {
   "cell_type": "markdown",
   "id": "e79e528a",
   "metadata": {},
   "source": [
    "### Model Training"
   ]
  },
  {
   "cell_type": "code",
   "execution_count": 7,
   "id": "55d58f63",
   "metadata": {},
   "outputs": [
    {
     "name": "stderr",
     "output_type": "stream",
     "text": [
      "C:\\Users\\ZOHAIB\\AppData\\Local\\Temp\\ipykernel_18116\\521650761.py:6: SettingWithCopyWarning: \n",
      "A value is trying to be set on a copy of a slice from a DataFrame\n",
      "\n",
      "See the caveats in the documentation: https://pandas.pydata.org/pandas-docs/stable/user_guide/indexing.html#returning-a-view-versus-a-copy\n",
      "  df.dropna(subset=['condition'], inplace=True)\n"
     ]
    },
    {
     "name": "stdout",
     "output_type": "stream",
     "text": [
      "Top recommended medicines for headache :\n",
      "Acetaminophen / butalbital / caffeine\n",
      "Fioricet\n",
      "Acetaminophen / butalbital / caffeine\n"
     ]
    }
   ],
   "source": [
    "from sklearn.feature_extraction.text import TfidfVectorizer\n",
    "from sklearn.metrics.pairwise import cosine_similarity\n",
    "\n",
    "df = df[['drugName', 'condition']]\n",
    "\n",
    "df.dropna(subset=['condition'], inplace=True)\n",
    "\n",
    "\n",
    "tfidf_vectorizer = TfidfVectorizer()\n",
    "tfidf_matrix = tfidf_vectorizer.fit_transform(df['condition'])\n",
    "\n",
    "\n",
    "user_condition = input(\"Enter your health condition: \")\n",
    "\n",
    "\n",
    "user_condition_tfidf = tfidf_vectorizer.transform([user_condition])\n",
    "\n",
    "\n",
    "similarity_scores = cosine_similarity(user_condition_tfidf, tfidf_matrix)\n",
    "\n",
    "\n",
    "top_indices = similarity_scores.argsort()[0][::-1][:3]\n",
    "\n",
    "top_medicines = df['drugName'].iloc[top_indices]\n",
    "\n",
    "print(\"Top recommended medicines for\", user_condition, \":\")\n",
    "for medicine in top_medicines:\n",
    "    print(medicine)\n"
   ]
  }
 ],
 "metadata": {
  "kernelspec": {
   "display_name": "virtual",
   "language": "python",
   "name": "python3"
  },
  "language_info": {
   "codemirror_mode": {
    "name": "ipython",
    "version": 3
   },
   "file_extension": ".py",
   "mimetype": "text/x-python",
   "name": "python",
   "nbconvert_exporter": "python",
   "pygments_lexer": "ipython3",
   "version": "3.12.4"
  }
 },
 "nbformat": 4,
 "nbformat_minor": 5
}
