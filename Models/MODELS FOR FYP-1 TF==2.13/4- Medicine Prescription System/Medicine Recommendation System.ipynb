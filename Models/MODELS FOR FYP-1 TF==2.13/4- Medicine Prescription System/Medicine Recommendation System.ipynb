{
 "cells": [
  {
   "cell_type": "markdown",
   "id": "d661e371",
   "metadata": {},
   "source": [
    "# Medicine Recommendation System  "
   ]
  },
  {
   "cell_type": "code",
   "execution_count": null,
   "id": "d37de8ab",
   "metadata": {},
   "outputs": [],
   "source": [
    "import pandas as pd\n",
    "import matplotlib.pyplot as plt\n",
    "import seaborn as sns"
   ]
  },
  {
   "cell_type": "code",
   "execution_count": null,
   "id": "a2d3569a",
   "metadata": {},
   "outputs": [],
   "source": [
    "df=pd.read_csv(r'drugsComTest_raw.csv')"
   ]
  },
  {
   "cell_type": "code",
   "execution_count": null,
   "id": "75d5fe06",
   "metadata": {},
   "outputs": [],
   "source": [
    "df"
   ]
  },
  {
   "cell_type": "markdown",
   "id": "9ad1c0ea",
   "metadata": {},
   "source": [
    "### Exploratory Data Analysis"
   ]
  },
  {
   "cell_type": "code",
   "execution_count": null,
   "id": "4b717800",
   "metadata": {},
   "outputs": [],
   "source": [
    "df.shape"
   ]
  },
  {
   "cell_type": "code",
   "execution_count": null,
   "id": "4add69d0",
   "metadata": {},
   "outputs": [],
   "source": [
    "df.isnull().sum()"
   ]
  },
  {
   "cell_type": "code",
   "execution_count": null,
   "id": "1e5947df",
   "metadata": {},
   "outputs": [],
   "source": [
    "df.info()"
   ]
  },
  {
   "cell_type": "code",
   "execution_count": null,
   "id": "85f5666a",
   "metadata": {},
   "outputs": [],
   "source": [
    "df.shape"
   ]
  },
  {
   "cell_type": "code",
   "execution_count": null,
   "id": "ff382e1c",
   "metadata": {},
   "outputs": [],
   "source": [
    "df.nunique()"
   ]
  },
  {
   "cell_type": "code",
   "execution_count": null,
   "id": "e7e7cef3",
   "metadata": {},
   "outputs": [],
   "source": [
    "sns.histplot(data=df,x='rating',bins=10)\n",
    "plt.title('Distribution of ratings')\n",
    "plt.show()"
   ]
  },
  {
   "cell_type": "code",
   "execution_count": null,
   "id": "9b3e11fe",
   "metadata": {},
   "outputs": [],
   "source": [
    "top_drugs=df['drugName'].value_counts().head(10)\n",
    "sns.barplot(x=top_drugs.values,y=top_drugs.index)\n",
    "plt.xlabel('Review count')\n",
    "plt.ylabel('Drug name')\n",
    "plt.title('Top 10 drugs by review count')\n",
    "plt.show()"
   ]
  },
  {
   "cell_type": "code",
   "execution_count": null,
   "id": "029ce953",
   "metadata": {},
   "outputs": [],
   "source": [
    "top_drugs"
   ]
  },
  {
   "cell_type": "code",
   "execution_count": null,
   "id": "efe90e85",
   "metadata": {},
   "outputs": [],
   "source": [
    "sns.scatterplot(data=df,x='rating',y='usefulCount')\n",
    "plt.title('Rating v/s Useful Count')\n",
    "plt.xlabel('Rating')\n",
    "plt.ylabel('Useful Count')\n",
    "plt.show()"
   ]
  },
  {
   "cell_type": "code",
   "execution_count": null,
   "id": "bb8c92c0",
   "metadata": {},
   "outputs": [],
   "source": [
    "top_conditions=df['condition'].value_counts().head(10)\n",
    "sns.barplot(x=top_conditions.values,y=top_conditions.index)\n",
    "plt.title('Top 10 Frequent conditions')\n",
    "plt.xlabel('Frequency')\n",
    "plt.ylabel('Condition')\n",
    "plt.show()"
   ]
  },
  {
   "cell_type": "code",
   "execution_count": null,
   "id": "fe64273e",
   "metadata": {},
   "outputs": [],
   "source": [
    "top_conditions"
   ]
  },
  {
   "cell_type": "code",
   "execution_count": null,
   "id": "55952d09",
   "metadata": {},
   "outputs": [],
   "source": [
    "def get_medications_for_condition(condition):\n",
    "    medications = df[df['condition'] == condition]['drugName'].unique()#.head(5)\n",
    "    print(medications)"
   ]
  },
  {
   "cell_type": "code",
   "execution_count": null,
   "id": "198fa74a",
   "metadata": {},
   "outputs": [],
   "source": [
    "get_medications_for_condition('Birth Control')"
   ]
  },
  {
   "cell_type": "markdown",
   "id": "e79e528a",
   "metadata": {},
   "source": [
    "### Model Training"
   ]
  },
  {
   "cell_type": "code",
   "execution_count": null,
   "id": "55d58f63",
   "metadata": {},
   "outputs": [],
   "source": [
    "from sklearn.feature_extraction.text import TfidfVectorizer\n",
    "from sklearn.metrics.pairwise import cosine_similarity\n",
    "\n",
    "df = df[['drugName', 'condition']]\n",
    "\n",
    "df.dropna(subset=['condition'], inplace=True)\n",
    "\n",
    "\n",
    "tfidf_vectorizer = TfidfVectorizer()\n",
    "tfidf_matrix = tfidf_vectorizer.fit_transform(df['condition'])\n",
    "\n",
    "\n",
    "user_condition = input(\"Enter your health condition: \")\n",
    "\n",
    "\n",
    "user_condition_tfidf = tfidf_vectorizer.transform([user_condition])\n",
    "\n",
    "\n",
    "similarity_scores = cosine_similarity(user_condition_tfidf, tfidf_matrix)\n",
    "\n",
    "\n",
    "top_indices = similarity_scores.argsort()[0][::-1]\n",
    "\n",
    "top_medicines = df['drugName'].iloc[top_indices]\n",
    "\n",
    "print(\"Top recommended medicines for\", user_condition, \":\")\n",
    "for medicine in top_medicines:\n",
    "    print(medicine)\n"
   ]
  },
  {
   "cell_type": "code",
   "execution_count": null,
   "id": "93e175ed",
   "metadata": {},
   "outputs": [],
   "source": [
    "import pandas as pd\n",
    "from sklearn.feature_extraction.text import TfidfVectorizer\n",
    "from sklearn.metrics.pairwise import cosine_similarity\n",
    "\n",
    "\n",
    "df = df[['drugName', 'condition']]\n",
    "\n",
    "df.dropna(subset=['condition'], inplace=True)\n",
    "\n",
    "tfidf_vectorizer = TfidfVectorizer()\n",
    "tfidf_matrix = tfidf_vectorizer.fit_transform(df['condition'])\n",
    "\n",
    "user_condition = input(\"Enter your health condition: \")\n",
    "\n",
    "user_condition_tfidf = tfidf_vectorizer.transform([user_condition])\n",
    "\n",
    "similarity_scores = cosine_similarity(user_condition_tfidf, tfidf_matrix)\n",
    "\n",
    "top_indices = similarity_scores.argsort()[0][::-1][:10]  # Select top 10 indices\n",
    "\n",
    "top_medicines = df['drugName'].iloc[top_indices]\n",
    "\n",
    "print(\"Top 10 recommended medicines for\", user_condition, \":\")\n",
    "for medicine in top_medicines:\n",
    "    print(medicine)\n"
   ]
  },
  {
   "cell_type": "code",
   "execution_count": null,
   "id": "777a8507-8c6d-41de-8cb8-7981518056c4",
   "metadata": {},
   "outputs": [],
   "source": [
    "import numpy as np\n",
    "import pandas as pd\n",
    "from keras.preprocessing.text import Tokenizer\n",
    "from keras.preprocessing.sequence import pad_sequences\n",
    "from keras.models import Sequential\n",
    "from keras.layers import Embedding, LSTM, Dense\n",
    "from sklearn.model_selection import train_test_split\n",
    "from sklearn.preprocessing import LabelEncoder\n",
    "\n",
    "# Assuming 'df' is your DataFrame with columns 'condition' (health conditions) and 'drugName' (medicines)\n",
    "df = df[['drugName', 'condition']]\n",
    "\n",
    "# Drop rows with missing 'condition'\n",
    "df.dropna(subset=['condition'], inplace=True)\n",
    "\n",
    "# Encode the drug names as categorical labels\n",
    "label_encoder = LabelEncoder()\n",
    "df['drugName_encoded'] = label_encoder.fit_transform(df['drugName'])\n",
    "\n",
    "# Tokenize the conditions (health descriptions)\n",
    "tokenizer = Tokenizer()\n",
    "tokenizer.fit_on_texts(df['condition'])\n",
    "X = tokenizer.texts_to_sequences(df['condition'])\n",
    "\n",
    "# Pad the sequences to ensure equal length input to the LSTM\n",
    "max_sequence_length = 100  # You can tune this based on your dataset\n",
    "X = pad_sequences(X, padding='post', maxlen=max_sequence_length)\n",
    "\n",
    "# Define the labels (encoded drug names)\n",
    "y = df['drugName_encoded'].values\n",
    "\n",
    "# Split the data into training and testing sets\n",
    "X_train, X_test, y_train, y_test = train_test_split(X, y, test_size=0.2, random_state=42)\n",
    "\n",
    "# Build the LSTM model\n",
    "model = Sequential()\n",
    "\n",
    "# Embedding layer for text input\n",
    "model.add(Embedding(input_dim=len(tokenizer.word_index) + 1, \n",
    "                    output_dim=128, \n",
    "                    input_length=max_sequence_length))\n",
    "\n",
    "# LSTM layer with dropout for regularization\n",
    "model.add(LSTM(128, dropout=0.2, recurrent_dropout=0.2))\n",
    "\n",
    "# Dense layer for classification\n",
    "model.add(Dense(64, activation='relu'))\n",
    "\n",
    "# Output layer: softmax for multi-class classification\n",
    "model.add(Dense(len(df['drugName'].unique()), activation='softmax'))\n",
    "\n",
    "# Compile the model\n",
    "model.compile(loss='sparse_categorical_crossentropy', \n",
    "              optimizer='adam', \n",
    "              metrics=['accuracy'])\n",
    "\n",
    "# Train the model\n",
    "model.fit(X_train, y_train, epochs=50, batch_size=64, validation_data=(X_test, y_test))\n",
    "\n",
    "# Function to predict the recommended medicine for a user input condition\n",
    "def recommend_medicine(user_condition):\n",
    "    user_condition_seq = tokenizer.texts_to_sequences([user_condition])\n",
    "    user_condition_padded = pad_sequences(user_condition_seq, maxlen=max_sequence_length, padding='post')\n",
    "    predicted = model.predict(user_condition_padded)\n",
    "    predicted_label = np.argmax(predicted, axis=1)[0]\n",
    "    predicted_medicine = label_encoder.inverse_transform([predicted_label])[0]\n",
    "    return predicted_medicine\n",
    "\n",
    "# Example usage: input your health condition\n",
    "user_condition = input(\"Enter your health condition: \")\n",
    "recommended_medicine = recommend_medicine(user_condition)\n",
    "print(f\"Recommended medicine: {recommended_medicine}\")\n"
   ]
  },
  {
   "cell_type": "code",
   "execution_count": null,
   "id": "4a40c86a",
   "metadata": {},
   "outputs": [],
   "source": []
  },
  {
   "cell_type": "code",
   "execution_count": null,
   "id": "8d0e26b3",
   "metadata": {},
   "outputs": [],
   "source": []
  },
  {
   "cell_type": "code",
   "execution_count": null,
   "id": "83f03a23-1f88-4010-971c-3a04d3546e59",
   "metadata": {},
   "outputs": [],
   "source": []
  },
  {
   "cell_type": "code",
   "execution_count": null,
   "id": "f4d247c1-e611-4c6f-8f49-08907219bb0e",
   "metadata": {},
   "outputs": [],
   "source": []
  },
  {
   "cell_type": "code",
   "execution_count": null,
   "id": "86d8b92d-571b-4778-b562-27f17d173f83",
   "metadata": {},
   "outputs": [],
   "source": []
  }
 ],
 "metadata": {
  "kernelspec": {
   "display_name": "Python 3 (ipykernel)",
   "language": "python",
   "name": "python3"
  },
  "language_info": {
   "codemirror_mode": {
    "name": "ipython",
    "version": 3
   },
   "file_extension": ".py",
   "mimetype": "text/x-python",
   "name": "python",
   "nbconvert_exporter": "python",
   "pygments_lexer": "ipython3",
   "version": "3.12.7"
  }
 },
 "nbformat": 4,
 "nbformat_minor": 5
}
